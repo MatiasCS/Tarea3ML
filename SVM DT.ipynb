{
 "cells": [
  {
   "cell_type": "code",
   "execution_count": 9,
   "metadata": {
    "collapsed": false
   },
   "outputs": [],
   "source": [
    "from sklearn.model_selection import GridSearchCV\n",
    "from keras.models import Sequential\n",
    "from keras.layers import Dense, Activation, Dropout\n",
    "from keras.optimizers import SGD\n",
    "from keras.utils.np_utils import to_categorical\n",
    "from sklearn.preprocessing import StandardScaler\n",
    "from sklearn.svm import SVC\n",
    "from sklearn.tree import DecisionTreeClassifier\n",
    "from scipy.misc import imread\n",
    "from top_level_features import hog_features\n",
    "from top_level_features import color_histogram_hsv\n",
    "from top_level_features import extract_features\n",
    "import cPickle as pickle\n",
    "import numpy as np\n",
    "import os"
   ]
  },
  {
   "cell_type": "code",
   "execution_count": 16,
   "metadata": {
    "collapsed": true
   },
   "outputs": [],
   "source": [
    "# Utility function to report best scores\n",
    "def report(results, n_top=3):\n",
    "    for i in range(1, n_top + 1):\n",
    "        candidates = np.flatnonzero(results['rank_test_score'] == i)\n",
    "        for candidate in candidates:\n",
    "            print(\"Model with rank: {0}\".format(i))\n",
    "            print(\"Mean validation score: {0:.3f} (std: {1:.3f})\".format(\n",
    "                  results['mean_test_score'][candidate],\n",
    "                  results['std_test_score'][candidate]))\n",
    "            print(\"Parameters: {0}\".format(results['params'][candidate]))\n",
    "            print(\"\")\n",
    "\n",
    "def unpickle(file):\n",
    "    import cPickle\n",
    "    fo = open(file, 'rb')\n",
    "    dict = cPickle.load(fo)\n",
    "    fo.close()\n",
    "    return dict\n",
    "\n",
    "def load_CIFAR_one(filename):\n",
    "    with open(filename, 'rb') as f:\n",
    "        datadict = pickle.load(f)\n",
    "        X = datadict['data']\n",
    "        Y = datadict['labels']\n",
    "        return X, np.array(Y)\n",
    "\n",
    "def load_CIFAR10(PATH):\n",
    "    xs = []\n",
    "    ys = []\n",
    "    for b in range(1,6):\n",
    "        f = os.path.join(PATH, 'data_batch_%d' % (b, ))\n",
    "        X, Y = load_CIFAR_one(f)\n",
    "        xs.append(X)\n",
    "        ys.append(Y)\n",
    "    Xtr = np.concatenate(xs)\n",
    "    Ytr = np.concatenate(ys)\n",
    "    trSet = np.concatenate((Xtr, Ytr.reshape(50000,1)), 1)\n",
    "    np.random.shuffle(trSet)\n",
    "    Xval = trSet[:10000,:3072]\n",
    "    Yval = trSet[:10000,3072]\n",
    "    del X, Y\n",
    "    Xte, Yte = load_CIFAR_one(os.path.join(PATH, 'test_batch'))\n",
    "    return Xtr, Ytr, Xte, Yte, Xval, Yval\n",
    "\n",
    "label_names = ['airplane', 'automobile', 'bird', 'cat', 'deer', 'dog',\\\n",
    "'frog', 'horse', 'ship', 'truck']"
   ]
  },
  {
   "cell_type": "code",
   "execution_count": 17,
   "metadata": {
    "collapsed": false
   },
   "outputs": [],
   "source": [
    "Xtr, Ytr, Xte, Yte, Xval, Yval = load_CIFAR10(\".\")"
   ]
  },
  {
   "cell_type": "code",
   "execution_count": 11,
   "metadata": {
    "collapsed": false
   },
   "outputs": [
    {
     "name": "stdout",
     "output_type": "stream",
     "text": [
      "Model with rank: 1\n",
      "Mean validation score: 0.292 (std: 0.002)\n",
      "Parameters: {'max_depth': 9}\n",
      "\n",
      "Model with rank: 2\n",
      "Mean validation score: 0.290 (std: 0.001)\n",
      "Parameters: {'max_depth': 10}\n",
      "\n",
      "Model with rank: 3\n",
      "Mean validation score: 0.290 (std: 0.001)\n",
      "Parameters: {'max_depth': 8}\n",
      "\n"
     ]
    }
   ],
   "source": [
    "model = DecisionTreeClassifier()\n",
    "param_dist = range(1,11)\n",
    "random_search = GridSearchCV(estimator=model, param_grid=dict(max_depth=param_dist))\n",
    "random_search.fit(Xtr,Ytr)\n",
    "report(random_search.cv_results_)"
   ]
  },
  {
   "cell_type": "code",
   "execution_count": 15,
   "metadata": {
    "collapsed": false
   },
   "outputs": [
    {
     "name": "stdout",
     "output_type": "stream",
     "text": [
      "(50000, 32, 32, 3)\n",
      "(10000, 32, 32, 3)\n",
      "Model with rank: 1\n",
      "Mean validation score: 0.292 (std: 0.002)\n",
      "Parameters: {'max_depth': 9}\n",
      "\n",
      "Model with rank: 2\n",
      "Mean validation score: 0.290 (std: 0.001)\n",
      "Parameters: {'max_depth': 10}\n",
      "\n",
      "Model with rank: 3\n",
      "Mean validation score: 0.290 (std: 0.001)\n",
      "Parameters: {'max_depth': 8}\n",
      "\n"
     ]
    }
   ],
   "source": [
    "featuresHog = extract_features(Xtr,[hog_features]) #extrae hog features\n",
    "featuresHogTe = extract_features(Xte,[hog_features]) #extrae hog features\n",
    "featuresHogVal = extract_features(Xval,[hog_features]) #extrae hog features\n",
    "Ytr = to_categorical(Ytr)\n",
    "Yte = to_categorical(Yte)\n",
    "Yval = to_categorical(Yval)\n",
    "\n",
    "random_search2 = GridSearchCV(estimator=model, param_grid=dict(max_depth=param_dist))\n",
    "random_search2.fit(featuresHog,Ytr)\n",
    "report(random_search.cv_results_)"
   ]
  },
  {
   "cell_type": "code",
   "execution_count": 19,
   "metadata": {
    "collapsed": false
   },
   "outputs": [
    {
     "name": "stdout",
     "output_type": "stream",
     "text": [
      "(50000, 32, 32, 3)\n",
      "(10000, 32, 32, 3)\n",
      "(10000, 32, 32, 3)\n",
      "Model with rank: 1\n",
      "Mean validation score: 0.292 (std: 0.002)\n",
      "Parameters: {'max_depth': 9}\n",
      "\n",
      "Model with rank: 2\n",
      "Mean validation score: 0.290 (std: 0.001)\n",
      "Parameters: {'max_depth': 10}\n",
      "\n",
      "Model with rank: 3\n",
      "Mean validation score: 0.290 (std: 0.001)\n",
      "Parameters: {'max_depth': 8}\n",
      "\n"
     ]
    }
   ],
   "source": [
    "featuresHist = extract_features(Xtr,[color_histogram_hsv]) #extrae hog features\n",
    "featuresHistTe = extract_features(Xte,[color_histogram_hsv]) #extrae hog features\n",
    "featuresHistVal = extract_features(Xval,[color_histogram_hsv]) #extrae hog features\n",
    "\n",
    "random_search3 = GridSearchCV(estimator=model, param_grid=dict(max_depth=param_dist))\n",
    "random_search3.fit(featuresHist,Ytr)\n",
    "report(random_search.cv_results_)"
   ]
  },
  {
   "cell_type": "code",
   "execution_count": 20,
   "metadata": {
    "collapsed": false
   },
   "outputs": [
    {
     "name": "stdout",
     "output_type": "stream",
     "text": [
      "(50000, 32, 32, 3)\n",
      "(10000, 32, 32, 3)\n",
      "(10000, 32, 32, 3)\n",
      "Model with rank: 1\n",
      "Mean validation score: 0.292 (std: 0.002)\n",
      "Parameters: {'max_depth': 9}\n",
      "\n",
      "Model with rank: 2\n",
      "Mean validation score: 0.290 (std: 0.001)\n",
      "Parameters: {'max_depth': 10}\n",
      "\n",
      "Model with rank: 3\n",
      "Mean validation score: 0.290 (std: 0.001)\n",
      "Parameters: {'max_depth': 8}\n",
      "\n"
     ]
    }
   ],
   "source": [
    "features = extract_features(Xtr,[hog_features, color_histogram_hsv]) #extrae hog features\n",
    "featuresTe = extract_features(Xte,[hog_features, color_histogram_hsv]) #extrae hog features\n",
    "featuresVal = extract_features(Xval,[hog_features, color_histogram_hsv]) #extrae hog features\n",
    "\n",
    "random_search4 = GridSearchCV(estimator=model, param_grid=dict(max_depth=param_dist))\n",
    "random_search3.fit(features,Ytr)\n",
    "report(random_search.cv_results_)"
   ]
  },
  {
   "cell_type": "code",
   "execution_count": null,
   "metadata": {
    "collapsed": true
   },
   "outputs": [],
   "source": []
  }
 ],
 "metadata": {
  "kernelspec": {
   "display_name": "Python [Root]",
   "language": "python",
   "name": "Python [Root]"
  },
  "language_info": {
   "codemirror_mode": {
    "name": "ipython",
    "version": 2
   },
   "file_extension": ".py",
   "mimetype": "text/x-python",
   "name": "python",
   "nbconvert_exporter": "python",
   "pygments_lexer": "ipython2",
   "version": "2.7.12"
  }
 },
 "nbformat": 4,
 "nbformat_minor": 0
}
